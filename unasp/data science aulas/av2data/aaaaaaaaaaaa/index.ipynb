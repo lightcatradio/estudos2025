{
 "cells": [
  {
   "cell_type": "code",
   "execution_count": 55,
   "id": "3cb27166",
   "metadata": {},
   "outputs": [
    {
     "data": {
      "text/html": [
       "<div>\n",
       "<style scoped>\n",
       "    .dataframe tbody tr th:only-of-type {\n",
       "        vertical-align: middle;\n",
       "    }\n",
       "\n",
       "    .dataframe tbody tr th {\n",
       "        vertical-align: top;\n",
       "    }\n",
       "\n",
       "    .dataframe thead th {\n",
       "        text-align: right;\n",
       "    }\n",
       "</style>\n",
       "<table border=\"1\" class=\"dataframe\">\n",
       "  <thead>\n",
       "    <tr style=\"text-align: right;\">\n",
       "      <th></th>\n",
       "      <th>titulo</th>\n",
       "      <th>genero</th>\n",
       "      <th>pais</th>\n",
       "      <th>idioma</th>\n",
       "      <th>duracao</th>\n",
       "      <th>classificacao</th>\n",
       "      <th>data_lancamento</th>\n",
       "      <th>nota_imdb</th>\n",
       "      <th>mulheres_assistiram</th>\n",
       "      <th>homens_assistiram</th>\n",
       "    </tr>\n",
       "  </thead>\n",
       "  <tbody>\n",
       "    <tr>\n",
       "      <th>0</th>\n",
       "      <td>Stranger Things</td>\n",
       "      <td>Drama</td>\n",
       "      <td>UK</td>\n",
       "      <td>Coreano</td>\n",
       "      <td>69 min</td>\n",
       "      <td>R</td>\n",
       "      <td>2013-07-23</td>\n",
       "      <td>7.0</td>\n",
       "      <td>NaN</td>\n",
       "      <td>16067.0</td>\n",
       "    </tr>\n",
       "    <tr>\n",
       "      <th>1</th>\n",
       "      <td>Quantum Love</td>\n",
       "      <td>Crime</td>\n",
       "      <td>France</td>\n",
       "      <td>Espanhol</td>\n",
       "      <td>54 min</td>\n",
       "      <td>TV-14</td>\n",
       "      <td>2013-02-01</td>\n",
       "      <td>5.1</td>\n",
       "      <td>20708.0</td>\n",
       "      <td>26548.0</td>\n",
       "    </tr>\n",
       "    <tr>\n",
       "      <th>2</th>\n",
       "      <td>Midnight Heist</td>\n",
       "      <td>Thriller</td>\n",
       "      <td>United States</td>\n",
       "      <td>Coreano</td>\n",
       "      <td>55 min</td>\n",
       "      <td>TV-14</td>\n",
       "      <td>2010-05-15</td>\n",
       "      <td>6.6</td>\n",
       "      <td>49798.0</td>\n",
       "      <td>NaN</td>\n",
       "    </tr>\n",
       "    <tr>\n",
       "      <th>3</th>\n",
       "      <td>Red Horizon</td>\n",
       "      <td>Sci-Fi</td>\n",
       "      <td>Germany</td>\n",
       "      <td>Hindi</td>\n",
       "      <td>28 min</td>\n",
       "      <td>TV-PG</td>\n",
       "      <td>2018-11-28</td>\n",
       "      <td>9.1</td>\n",
       "      <td>NaN</td>\n",
       "      <td>47312.0</td>\n",
       "    </tr>\n",
       "    <tr>\n",
       "      <th>4</th>\n",
       "      <td>Lost Frequencies</td>\n",
       "      <td>Crime</td>\n",
       "      <td>South Korea</td>\n",
       "      <td>Coreano</td>\n",
       "      <td>40 min</td>\n",
       "      <td>R</td>\n",
       "      <td>2022-04-05</td>\n",
       "      <td>4.2</td>\n",
       "      <td>10191.0</td>\n",
       "      <td>39497.0</td>\n",
       "    </tr>\n",
       "    <tr>\n",
       "      <th>5</th>\n",
       "      <td>Deep Web</td>\n",
       "      <td>Comedy</td>\n",
       "      <td>United States</td>\n",
       "      <td>Hindi</td>\n",
       "      <td>56 min</td>\n",
       "      <td>G</td>\n",
       "      <td>2022-12-20</td>\n",
       "      <td>7.2</td>\n",
       "      <td>37632.0</td>\n",
       "      <td>39030.0</td>\n",
       "    </tr>\n",
       "    <tr>\n",
       "      <th>6</th>\n",
       "      <td>The Iron Pact</td>\n",
       "      <td>Comedy</td>\n",
       "      <td>United States</td>\n",
       "      <td>Francês</td>\n",
       "      <td>127 min</td>\n",
       "      <td>TV-Y</td>\n",
       "      <td>2016-11-16</td>\n",
       "      <td>7.1</td>\n",
       "      <td>9927.0</td>\n",
       "      <td>41017.0</td>\n",
       "    </tr>\n",
       "    <tr>\n",
       "      <th>7</th>\n",
       "      <td>CyberStorm</td>\n",
       "      <td>Drama</td>\n",
       "      <td>UK</td>\n",
       "      <td>Português</td>\n",
       "      <td>34 min</td>\n",
       "      <td>G</td>\n",
       "      <td>2015-05-10</td>\n",
       "      <td>5.5</td>\n",
       "      <td>9307.0</td>\n",
       "      <td>20192.0</td>\n",
       "    </tr>\n",
       "    <tr>\n",
       "      <th>8</th>\n",
       "      <td>Stranger Things</td>\n",
       "      <td>Sci-Fi</td>\n",
       "      <td>Spain</td>\n",
       "      <td>Coreano</td>\n",
       "      <td>23 min</td>\n",
       "      <td>TV-PG</td>\n",
       "      <td>2021-08-25</td>\n",
       "      <td>6.8</td>\n",
       "      <td>20889.0</td>\n",
       "      <td>47002.0</td>\n",
       "    </tr>\n",
       "    <tr>\n",
       "      <th>9</th>\n",
       "      <td>The Forgotten Island</td>\n",
       "      <td>Crime</td>\n",
       "      <td>South Korea</td>\n",
       "      <td>Inglês</td>\n",
       "      <td>15 min</td>\n",
       "      <td>TV-14</td>\n",
       "      <td>2010-06-23</td>\n",
       "      <td>5.1</td>\n",
       "      <td>NaN</td>\n",
       "      <td>45141.0</td>\n",
       "    </tr>\n",
       "  </tbody>\n",
       "</table>\n",
       "</div>"
      ],
      "text/plain": [
       "                 titulo    genero           pais     idioma  duracao  \\\n",
       "0       Stranger Things     Drama             UK    Coreano   69 min   \n",
       "1          Quantum Love     Crime         France   Espanhol   54 min   \n",
       "2        Midnight Heist  Thriller  United States    Coreano   55 min   \n",
       "3           Red Horizon    Sci-Fi        Germany      Hindi   28 min   \n",
       "4      Lost Frequencies     Crime    South Korea    Coreano   40 min   \n",
       "5              Deep Web    Comedy  United States      Hindi   56 min   \n",
       "6         The Iron Pact    Comedy  United States    Francês  127 min   \n",
       "7            CyberStorm     Drama             UK  Português   34 min   \n",
       "8       Stranger Things    Sci-Fi          Spain    Coreano   23 min   \n",
       "9  The Forgotten Island     Crime    South Korea     Inglês   15 min   \n",
       "\n",
       "  classificacao data_lancamento  nota_imdb  mulheres_assistiram  \\\n",
       "0             R      2013-07-23        7.0                  NaN   \n",
       "1         TV-14      2013-02-01        5.1              20708.0   \n",
       "2         TV-14      2010-05-15        6.6              49798.0   \n",
       "3         TV-PG      2018-11-28        9.1                  NaN   \n",
       "4             R      2022-04-05        4.2              10191.0   \n",
       "5             G      2022-12-20        7.2              37632.0   \n",
       "6          TV-Y      2016-11-16        7.1               9927.0   \n",
       "7             G      2015-05-10        5.5               9307.0   \n",
       "8         TV-PG      2021-08-25        6.8              20889.0   \n",
       "9         TV-14      2010-06-23        5.1                  NaN   \n",
       "\n",
       "   homens_assistiram  \n",
       "0            16067.0  \n",
       "1            26548.0  \n",
       "2                NaN  \n",
       "3            47312.0  \n",
       "4            39497.0  \n",
       "5            39030.0  \n",
       "6            41017.0  \n",
       "7            20192.0  \n",
       "8            47002.0  \n",
       "9            45141.0  "
      ]
     },
     "execution_count": 55,
     "metadata": {},
     "output_type": "execute_result"
    }
   ],
   "source": [
    "import pandas as pd\n",
    "\n",
    "data = pd.read_csv('netflix_originals_com_nomes_e_nan.csv')\n",
    "data.head(10)"
   ]
  },
  {
   "cell_type": "code",
   "execution_count": 56,
   "id": "8c402e17",
   "metadata": {},
   "outputs": [
    {
     "name": "stdout",
     "output_type": "stream",
     "text": [
      "<class 'pandas.core.frame.DataFrame'>\n",
      "RangeIndex: 200 entries, 0 to 199\n",
      "Data columns (total 10 columns):\n",
      " #   Column               Non-Null Count  Dtype  \n",
      "---  ------               --------------  -----  \n",
      " 0   titulo               200 non-null    object \n",
      " 1   genero               200 non-null    object \n",
      " 2   pais                 200 non-null    object \n",
      " 3   idioma               200 non-null    object \n",
      " 4   duracao              194 non-null    object \n",
      " 5   classificacao        186 non-null    object \n",
      " 6   data_lancamento      200 non-null    object \n",
      " 7   nota_imdb            194 non-null    float64\n",
      " 8   mulheres_assistiram  186 non-null    float64\n",
      " 9   homens_assistiram    179 non-null    float64\n",
      "dtypes: float64(3), object(7)\n",
      "memory usage: 15.8+ KB\n"
     ]
    }
   ],
   "source": [
    "data.info()"
   ]
  },
  {
   "cell_type": "code",
   "execution_count": 57,
   "id": "9acc7e70",
   "metadata": {},
   "outputs": [
    {
     "data": {
      "text/html": [
       "<div>\n",
       "<style scoped>\n",
       "    .dataframe tbody tr th:only-of-type {\n",
       "        vertical-align: middle;\n",
       "    }\n",
       "\n",
       "    .dataframe tbody tr th {\n",
       "        vertical-align: top;\n",
       "    }\n",
       "\n",
       "    .dataframe thead th {\n",
       "        text-align: right;\n",
       "    }\n",
       "</style>\n",
       "<table border=\"1\" class=\"dataframe\">\n",
       "  <thead>\n",
       "    <tr style=\"text-align: right;\">\n",
       "      <th></th>\n",
       "      <th>nota_imdb</th>\n",
       "      <th>mulheres_assistiram</th>\n",
       "      <th>homens_assistiram</th>\n",
       "    </tr>\n",
       "  </thead>\n",
       "  <tbody>\n",
       "    <tr>\n",
       "      <th>count</th>\n",
       "      <td>194.000000</td>\n",
       "      <td>186.000000</td>\n",
       "      <td>179.000000</td>\n",
       "    </tr>\n",
       "    <tr>\n",
       "      <th>mean</th>\n",
       "      <td>6.585567</td>\n",
       "      <td>24372.231183</td>\n",
       "      <td>23795.329609</td>\n",
       "    </tr>\n",
       "    <tr>\n",
       "      <th>std</th>\n",
       "      <td>1.699527</td>\n",
       "      <td>14838.107092</td>\n",
       "      <td>14725.242832</td>\n",
       "    </tr>\n",
       "    <tr>\n",
       "      <th>min</th>\n",
       "      <td>4.000000</td>\n",
       "      <td>547.000000</td>\n",
       "      <td>1045.000000</td>\n",
       "    </tr>\n",
       "    <tr>\n",
       "      <th>25%</th>\n",
       "      <td>5.025000</td>\n",
       "      <td>10353.250000</td>\n",
       "      <td>11595.500000</td>\n",
       "    </tr>\n",
       "    <tr>\n",
       "      <th>50%</th>\n",
       "      <td>6.500000</td>\n",
       "      <td>24233.500000</td>\n",
       "      <td>22256.000000</td>\n",
       "    </tr>\n",
       "    <tr>\n",
       "      <th>75%</th>\n",
       "      <td>8.125000</td>\n",
       "      <td>37885.750000</td>\n",
       "      <td>36852.000000</td>\n",
       "    </tr>\n",
       "    <tr>\n",
       "      <th>max</th>\n",
       "      <td>9.500000</td>\n",
       "      <td>49826.000000</td>\n",
       "      <td>49690.000000</td>\n",
       "    </tr>\n",
       "  </tbody>\n",
       "</table>\n",
       "</div>"
      ],
      "text/plain": [
       "        nota_imdb  mulheres_assistiram  homens_assistiram\n",
       "count  194.000000           186.000000         179.000000\n",
       "mean     6.585567         24372.231183       23795.329609\n",
       "std      1.699527         14838.107092       14725.242832\n",
       "min      4.000000           547.000000        1045.000000\n",
       "25%      5.025000         10353.250000       11595.500000\n",
       "50%      6.500000         24233.500000       22256.000000\n",
       "75%      8.125000         37885.750000       36852.000000\n",
       "max      9.500000         49826.000000       49690.000000"
      ]
     },
     "execution_count": 57,
     "metadata": {},
     "output_type": "execute_result"
    }
   ],
   "source": [
    "data.describe()"
   ]
  },
  {
   "cell_type": "code",
   "execution_count": 58,
   "id": "539e9555",
   "metadata": {},
   "outputs": [
    {
     "data": {
      "text/plain": [
       "titulo                  0\n",
       "genero                  0\n",
       "pais                    0\n",
       "idioma                  0\n",
       "duracao                 6\n",
       "classificacao          14\n",
       "data_lancamento         0\n",
       "nota_imdb               6\n",
       "mulheres_assistiram    14\n",
       "homens_assistiram      21\n",
       "dtype: int64"
      ]
     },
     "execution_count": 58,
     "metadata": {},
     "output_type": "execute_result"
    }
   ],
   "source": [
    "data.isna().sum()\n"
   ]
  },
  {
   "cell_type": "code",
   "execution_count": 59,
   "id": "1739a988",
   "metadata": {},
   "outputs": [
    {
     "name": "stderr",
     "output_type": "stream",
     "text": [
      "C:\\Users\\tntga\\AppData\\Local\\Temp\\ipykernel_17624\\45107267.py:5: FutureWarning: A value is trying to be set on a copy of a DataFrame or Series through chained assignment using an inplace method.\n",
      "The behavior will change in pandas 3.0. This inplace method will never work because the intermediate object on which we are setting values always behaves as a copy.\n",
      "\n",
      "For example, when doing 'df[col].method(value, inplace=True)', try using 'df.method({col: value}, inplace=True)' or df[col] = df[col].method(value) instead, to perform the operation inplace on the original object.\n",
      "\n",
      "\n",
      "  data['duracao'].replace('', '0', regex=False, inplace=True)\n"
     ]
    }
   ],
   "source": [
    "# Escolhido trocar o NaN por 0, pois a média de duração não faz sentido para o dataset\n",
    "# Outros valores nulos foram preenchidos com a média da coluna\n",
    "\n",
    "data['duracao'] = data['duracao'].str.replace(' min', '', regex=False)\n",
    "data['duracao'].replace('', '0', regex=False, inplace=True)\n",
    "data['duracao'] = data['duracao'].astype(float)\n",
    "numeric_columns = data.select_dtypes(include=['float64', 'int64']).columns\n",
    "data.fillna(data[numeric_columns].mean(), inplace=True)"
   ]
  },
  {
   "cell_type": "code",
   "execution_count": 60,
   "id": "94d629f4",
   "metadata": {},
   "outputs": [
    {
     "data": {
      "text/plain": [
       "titulo                  0\n",
       "genero                  0\n",
       "pais                    0\n",
       "idioma                  0\n",
       "duracao                 0\n",
       "classificacao          14\n",
       "data_lancamento         0\n",
       "nota_imdb               0\n",
       "mulheres_assistiram     0\n",
       "homens_assistiram       0\n",
       "dtype: int64"
      ]
     },
     "execution_count": 60,
     "metadata": {},
     "output_type": "execute_result"
    }
   ],
   "source": [
    "data.isna().sum()"
   ]
  },
  {
   "cell_type": "code",
   "execution_count": null,
   "id": "7d6905b5",
   "metadata": {},
   "outputs": [],
   "source": []
  },
  {
   "cell_type": "code",
   "execution_count": 61,
   "id": "df4d3194",
   "metadata": {},
   "outputs": [
    {
     "data": {
      "text/plain": [
       "0      16\n",
       "1      14\n",
       "2      14\n",
       "3      10\n",
       "4      16\n",
       "       ..\n",
       "195    18\n",
       "196    18\n",
       "197    10\n",
       "198     0\n",
       "199    10\n",
       "Name: classificacao, Length: 186, dtype: int64"
      ]
     },
     "execution_count": 61,
     "metadata": {},
     "output_type": "execute_result"
    }
   ],
   "source": [
    "classificacao_map = {\n",
    "    'G': 0,\n",
    "    'PG': 10,\n",
    "    'PG-13': 12,\n",
    "    'R': 16,\n",
    "    'TV-Y': 0,\n",
    "    'TV-Y7': 7,\n",
    "    'TV-G': 0,\n",
    "    'TV-PG': 10 ,\n",
    "    'TV-14': 14,\n",
    "    'TV-MA': 18\n",
    "}\n",
    "\n",
    "# Valores que são nulos são removidos, pois não há como preencher com a média\n",
    "\n",
    "data.dropna(inplace=True)\n",
    "\n",
    "data['classificacao'] = data['classificacao'].map(classificacao_map).fillna(data['classificacao'])\n",
    "data['classificacao']"
   ]
  },
  {
   "cell_type": "code",
   "execution_count": 62,
   "id": "3db82ce9",
   "metadata": {},
   "outputs": [
    {
     "data": {
      "text/plain": [
       "titulo                 0\n",
       "genero                 0\n",
       "pais                   0\n",
       "idioma                 0\n",
       "duracao                0\n",
       "classificacao          0\n",
       "data_lancamento        0\n",
       "nota_imdb              0\n",
       "mulheres_assistiram    0\n",
       "homens_assistiram      0\n",
       "dtype: int64"
      ]
     },
     "execution_count": 62,
     "metadata": {},
     "output_type": "execute_result"
    }
   ],
   "source": [
    "data.isna().sum()"
   ]
  },
  {
   "cell_type": "code",
   "execution_count": 63,
   "id": "0356283b",
   "metadata": {},
   "outputs": [
    {
     "data": {
      "text/plain": [
       "0      40439\n",
       "1      47256\n",
       "2      73593\n",
       "3      71684\n",
       "4      49688\n",
       "       ...  \n",
       "195    48720\n",
       "196    48376\n",
       "197    55877\n",
       "198    45991\n",
       "199    86553\n",
       "Name: total_espectadores, Length: 186, dtype: int64"
      ]
     },
     "execution_count": 63,
     "metadata": {},
     "output_type": "execute_result"
    }
   ],
   "source": [
    "data['total_espectadores'] = (data['homens_assistiram'] + data['mulheres_assistiram']).round(0).astype(int)\n",
    "data['total_espectadores']"
   ]
  },
  {
   "cell_type": "code",
   "execution_count": 64,
   "id": "49a2edde",
   "metadata": {},
   "outputs": [
    {
     "data": {
      "text/plain": [
       "array(['UK', 'FR', 'USA', 'GER', 'KOR', 'ES', 'JP', 'BR', 'IN'],\n",
       "      dtype=object)"
      ]
     },
     "execution_count": 64,
     "metadata": {},
     "output_type": "execute_result"
    }
   ],
   "source": [
    "paises_map = {\n",
    "    'France': 'FR',\n",
    "    'United States': 'USA',\n",
    "    'Germany': 'GER',\n",
    "    'South Korea': 'KOR',\n",
    "    'Spain': 'ES',\n",
    "    'U.S.': 'USA',\n",
    "    'Japan': 'JP',\n",
    "    'Brazil': 'BR' ,\n",
    "    'India': 'IN',\n",
    "}\n",
    "\n",
    "\n",
    "\n",
    "data['pais'] = data['pais'].map(paises_map).fillna(data['pais'])\n",
    "data['pais']\n",
    "\n",
    "data['pais'].unique()"
   ]
  },
  {
   "cell_type": "code",
   "execution_count": 65,
   "id": "2bdfda9b",
   "metadata": {},
   "outputs": [],
   "source": [
    "data['publico_predominante'] = ['Mulheres' if data['mulheres_assistiram'].iloc[i] > data['homens_assistiram'].iloc[i] else 'Homens' if data['homens_assistiram'].iloc[i] > data['mulheres_assistiram'].iloc[i] else 'Empate' for i in range(len(data))]"
   ]
  },
  {
   "cell_type": "code",
   "execution_count": 66,
   "id": "f0466b43",
   "metadata": {},
   "outputs": [
    {
     "data": {
      "text/plain": [
       "0      2013\n",
       "1      2013\n",
       "2      2010\n",
       "3      2018\n",
       "4      2022\n",
       "       ... \n",
       "195    2015\n",
       "196    2022\n",
       "197    2020\n",
       "198    2013\n",
       "199    2015\n",
       "Name: ano_lancamento, Length: 186, dtype: int64"
      ]
     },
     "execution_count": 66,
     "metadata": {},
     "output_type": "execute_result"
    }
   ],
   "source": [
    "data['ano_lancamento'] = [int(i.split('-')[0]) for i in data['data_lancamento']]\n",
    "data['ano_lancamento']"
   ]
  },
  {
   "cell_type": "code",
   "execution_count": 67,
   "id": "cdcbef02",
   "metadata": {},
   "outputs": [
    {
     "data": {
      "text/plain": [
       "0       7\n",
       "1       2\n",
       "2       5\n",
       "3      11\n",
       "4       4\n",
       "       ..\n",
       "195     4\n",
       "196    10\n",
       "197     4\n",
       "198     3\n",
       "199    11\n",
       "Name: mes_lancamento, Length: 186, dtype: int64"
      ]
     },
     "execution_count": 67,
     "metadata": {},
     "output_type": "execute_result"
    }
   ],
   "source": [
    "data['mes_lancamento'] = [int(i.split('-')[1]) for i in data['data_lancamento']]\n",
    "data['mes_lancamento']"
   ]
  },
  {
   "cell_type": "code",
   "execution_count": 68,
   "id": "d34aaf69",
   "metadata": {},
   "outputs": [
    {
     "data": {
      "text/html": [
       "<div>\n",
       "<style scoped>\n",
       "    .dataframe tbody tr th:only-of-type {\n",
       "        vertical-align: middle;\n",
       "    }\n",
       "\n",
       "    .dataframe tbody tr th {\n",
       "        vertical-align: top;\n",
       "    }\n",
       "\n",
       "    .dataframe thead th {\n",
       "        text-align: right;\n",
       "    }\n",
       "</style>\n",
       "<table border=\"1\" class=\"dataframe\">\n",
       "  <thead>\n",
       "    <tr style=\"text-align: right;\">\n",
       "      <th></th>\n",
       "      <th>titulo</th>\n",
       "      <th>genero</th>\n",
       "      <th>pais</th>\n",
       "      <th>idioma</th>\n",
       "      <th>duracao</th>\n",
       "      <th>classificacao</th>\n",
       "      <th>data_lancamento</th>\n",
       "      <th>nota_imdb</th>\n",
       "      <th>mulheres_assistiram</th>\n",
       "      <th>homens_assistiram</th>\n",
       "      <th>total_espectadores</th>\n",
       "      <th>publico_predominante</th>\n",
       "      <th>ano_lancamento</th>\n",
       "      <th>mes_lancamento</th>\n",
       "    </tr>\n",
       "  </thead>\n",
       "  <tbody>\n",
       "    <tr>\n",
       "      <th>30</th>\n",
       "      <td>The Iron Pact</td>\n",
       "      <td>Documentary</td>\n",
       "      <td>JP</td>\n",
       "      <td>Português</td>\n",
       "      <td>103.000000</td>\n",
       "      <td>0</td>\n",
       "      <td>2018-09-12</td>\n",
       "      <td>7.9</td>\n",
       "      <td>49161.0</td>\n",
       "      <td>47788.0</td>\n",
       "      <td>96949</td>\n",
       "      <td>Mulheres</td>\n",
       "      <td>2018</td>\n",
       "      <td>9</td>\n",
       "    </tr>\n",
       "    <tr>\n",
       "      <th>39</th>\n",
       "      <td>Beyond the Stars</td>\n",
       "      <td>Sci-Fi</td>\n",
       "      <td>GER</td>\n",
       "      <td>Espanhol</td>\n",
       "      <td>99.000000</td>\n",
       "      <td>10</td>\n",
       "      <td>2011-06-08</td>\n",
       "      <td>8.9</td>\n",
       "      <td>49826.0</td>\n",
       "      <td>41019.0</td>\n",
       "      <td>90845</td>\n",
       "      <td>Mulheres</td>\n",
       "      <td>2011</td>\n",
       "      <td>6</td>\n",
       "    </tr>\n",
       "    <tr>\n",
       "      <th>21</th>\n",
       "      <td>La Casa de Papel</td>\n",
       "      <td>Crime</td>\n",
       "      <td>ES</td>\n",
       "      <td>Hindi</td>\n",
       "      <td>179.000000</td>\n",
       "      <td>10</td>\n",
       "      <td>2020-09-09</td>\n",
       "      <td>7.4</td>\n",
       "      <td>47605.0</td>\n",
       "      <td>40981.0</td>\n",
       "      <td>88586</td>\n",
       "      <td>Mulheres</td>\n",
       "      <td>2020</td>\n",
       "      <td>9</td>\n",
       "    </tr>\n",
       "    <tr>\n",
       "      <th>57</th>\n",
       "      <td>City of Whispers</td>\n",
       "      <td>Horror</td>\n",
       "      <td>USA</td>\n",
       "      <td>Francês</td>\n",
       "      <td>151.000000</td>\n",
       "      <td>18</td>\n",
       "      <td>2018-02-03</td>\n",
       "      <td>6.7</td>\n",
       "      <td>44970.0</td>\n",
       "      <td>43048.0</td>\n",
       "      <td>88018</td>\n",
       "      <td>Mulheres</td>\n",
       "      <td>2018</td>\n",
       "      <td>2</td>\n",
       "    </tr>\n",
       "    <tr>\n",
       "      <th>46</th>\n",
       "      <td>The Iron Pact</td>\n",
       "      <td>Thriller</td>\n",
       "      <td>BR</td>\n",
       "      <td>Inglês</td>\n",
       "      <td>193.000000</td>\n",
       "      <td>18</td>\n",
       "      <td>2017-11-18</td>\n",
       "      <td>4.4</td>\n",
       "      <td>48052.0</td>\n",
       "      <td>38549.0</td>\n",
       "      <td>86601</td>\n",
       "      <td>Mulheres</td>\n",
       "      <td>2017</td>\n",
       "      <td>11</td>\n",
       "    </tr>\n",
       "    <tr>\n",
       "      <th>...</th>\n",
       "      <td>...</td>\n",
       "      <td>...</td>\n",
       "      <td>...</td>\n",
       "      <td>...</td>\n",
       "      <td>...</td>\n",
       "      <td>...</td>\n",
       "      <td>...</td>\n",
       "      <td>...</td>\n",
       "      <td>...</td>\n",
       "      <td>...</td>\n",
       "      <td>...</td>\n",
       "      <td>...</td>\n",
       "      <td>...</td>\n",
       "      <td>...</td>\n",
       "    </tr>\n",
       "    <tr>\n",
       "      <th>61</th>\n",
       "      <td>Galactic Tide</td>\n",
       "      <td>Romance</td>\n",
       "      <td>USA</td>\n",
       "      <td>Espanhol</td>\n",
       "      <td>56.000000</td>\n",
       "      <td>0</td>\n",
       "      <td>2012-07-21</td>\n",
       "      <td>4.0</td>\n",
       "      <td>6276.0</td>\n",
       "      <td>4699.0</td>\n",
       "      <td>10975</td>\n",
       "      <td>Mulheres</td>\n",
       "      <td>2012</td>\n",
       "      <td>7</td>\n",
       "    </tr>\n",
       "    <tr>\n",
       "      <th>124</th>\n",
       "      <td>Red Horizon</td>\n",
       "      <td>Drama</td>\n",
       "      <td>KOR</td>\n",
       "      <td>Japonês</td>\n",
       "      <td>19.000000</td>\n",
       "      <td>0</td>\n",
       "      <td>2018-06-25</td>\n",
       "      <td>6.4</td>\n",
       "      <td>8001.0</td>\n",
       "      <td>1499.0</td>\n",
       "      <td>9500</td>\n",
       "      <td>Mulheres</td>\n",
       "      <td>2018</td>\n",
       "      <td>6</td>\n",
       "    </tr>\n",
       "    <tr>\n",
       "      <th>18</th>\n",
       "      <td>CyberStorm</td>\n",
       "      <td>Drama</td>\n",
       "      <td>IN</td>\n",
       "      <td>Japonês</td>\n",
       "      <td>84.798969</td>\n",
       "      <td>16</td>\n",
       "      <td>2021-06-10</td>\n",
       "      <td>4.7</td>\n",
       "      <td>4778.0</td>\n",
       "      <td>3496.0</td>\n",
       "      <td>8274</td>\n",
       "      <td>Mulheres</td>\n",
       "      <td>2021</td>\n",
       "      <td>6</td>\n",
       "    </tr>\n",
       "    <tr>\n",
       "      <th>36</th>\n",
       "      <td>Dream Catchers</td>\n",
       "      <td>Crime</td>\n",
       "      <td>BR</td>\n",
       "      <td>Coreano</td>\n",
       "      <td>30.000000</td>\n",
       "      <td>0</td>\n",
       "      <td>2021-11-02</td>\n",
       "      <td>9.1</td>\n",
       "      <td>4025.0</td>\n",
       "      <td>1349.0</td>\n",
       "      <td>5374</td>\n",
       "      <td>Mulheres</td>\n",
       "      <td>2021</td>\n",
       "      <td>11</td>\n",
       "    </tr>\n",
       "    <tr>\n",
       "      <th>17</th>\n",
       "      <td>La Casa de Papel</td>\n",
       "      <td>Romance</td>\n",
       "      <td>IN</td>\n",
       "      <td>Coreano</td>\n",
       "      <td>31.000000</td>\n",
       "      <td>12</td>\n",
       "      <td>2017-02-05</td>\n",
       "      <td>7.4</td>\n",
       "      <td>805.0</td>\n",
       "      <td>2972.0</td>\n",
       "      <td>3777</td>\n",
       "      <td>Homens</td>\n",
       "      <td>2017</td>\n",
       "      <td>2</td>\n",
       "    </tr>\n",
       "  </tbody>\n",
       "</table>\n",
       "<p>186 rows × 14 columns</p>\n",
       "</div>"
      ],
      "text/plain": [
       "               titulo       genero pais     idioma     duracao  classificacao  \\\n",
       "30      The Iron Pact  Documentary   JP  Português  103.000000              0   \n",
       "39   Beyond the Stars       Sci-Fi  GER   Espanhol   99.000000             10   \n",
       "21   La Casa de Papel        Crime   ES      Hindi  179.000000             10   \n",
       "57   City of Whispers       Horror  USA    Francês  151.000000             18   \n",
       "46      The Iron Pact     Thriller   BR     Inglês  193.000000             18   \n",
       "..                ...          ...  ...        ...         ...            ...   \n",
       "61      Galactic Tide      Romance  USA   Espanhol   56.000000              0   \n",
       "124       Red Horizon        Drama  KOR    Japonês   19.000000              0   \n",
       "18         CyberStorm        Drama   IN    Japonês   84.798969             16   \n",
       "36     Dream Catchers        Crime   BR    Coreano   30.000000              0   \n",
       "17   La Casa de Papel      Romance   IN    Coreano   31.000000             12   \n",
       "\n",
       "    data_lancamento  nota_imdb  mulheres_assistiram  homens_assistiram  \\\n",
       "30       2018-09-12        7.9              49161.0            47788.0   \n",
       "39       2011-06-08        8.9              49826.0            41019.0   \n",
       "21       2020-09-09        7.4              47605.0            40981.0   \n",
       "57       2018-02-03        6.7              44970.0            43048.0   \n",
       "46       2017-11-18        4.4              48052.0            38549.0   \n",
       "..              ...        ...                  ...                ...   \n",
       "61       2012-07-21        4.0               6276.0             4699.0   \n",
       "124      2018-06-25        6.4               8001.0             1499.0   \n",
       "18       2021-06-10        4.7               4778.0             3496.0   \n",
       "36       2021-11-02        9.1               4025.0             1349.0   \n",
       "17       2017-02-05        7.4                805.0             2972.0   \n",
       "\n",
       "     total_espectadores publico_predominante  ano_lancamento  mes_lancamento  \n",
       "30                96949             Mulheres            2018               9  \n",
       "39                90845             Mulheres            2011               6  \n",
       "21                88586             Mulheres            2020               9  \n",
       "57                88018             Mulheres            2018               2  \n",
       "46                86601             Mulheres            2017              11  \n",
       "..                  ...                  ...             ...             ...  \n",
       "61                10975             Mulheres            2012               7  \n",
       "124                9500             Mulheres            2018               6  \n",
       "18                 8274             Mulheres            2021               6  \n",
       "36                 5374             Mulheres            2021              11  \n",
       "17                 3777               Homens            2017               2  \n",
       "\n",
       "[186 rows x 14 columns]"
      ]
     },
     "execution_count": 68,
     "metadata": {},
     "output_type": "execute_result"
    }
   ],
   "source": [
    "data.sort_values(by='total_espectadores', ascending=False)"
   ]
  },
  {
   "cell_type": "code",
   "execution_count": 69,
   "id": "f6ab326f",
   "metadata": {},
   "outputs": [
    {
     "data": {
      "text/plain": [
       "genero\n",
       "Sci-Fi         1516595\n",
       "Crime          1233079\n",
       "Thriller       1130760\n",
       "Comedy         1065996\n",
       "Action          986605\n",
       "Romance         868332\n",
       "Horror          761640\n",
       "Documentary     716528\n",
       "Drama           663763\n",
       "Name: total_espectadores, dtype: int64"
      ]
     },
     "execution_count": 69,
     "metadata": {},
     "output_type": "execute_result"
    }
   ],
   "source": [
    "data['total_espectadores'].groupby(data['genero']).sum().sort_values(ascending=False)"
   ]
  },
  {
   "cell_type": "code",
   "execution_count": 70,
   "id": "3f2828b5",
   "metadata": {},
   "outputs": [
    {
     "data": {
      "text/plain": [
       "ano_lancamento\n",
       "2021    22\n",
       "2018    19\n",
       "2017    16\n",
       "2013    16\n",
       "2012    16\n",
       "2020    15\n",
       "2016    15\n",
       "2022    13\n",
       "2019    12\n",
       "2010    11\n",
       "2015    11\n",
       "2014    10\n",
       "2011    10\n",
       "dtype: int64"
      ]
     },
     "execution_count": 70,
     "metadata": {},
     "output_type": "execute_result"
    }
   ],
   "source": [
    "data.groupby(data['ano_lancamento']).size().sort_values(ascending=False)"
   ]
  },
  {
   "cell_type": "code",
   "execution_count": 71,
   "id": "0133a48b",
   "metadata": {},
   "outputs": [
    {
     "data": {
      "text/plain": [
       "idioma\n",
       "Hindi        35\n",
       "Francês      34\n",
       "Coreano      28\n",
       "Espanhol     26\n",
       "Inglês       21\n",
       "Japonês      21\n",
       "Português    21\n",
       "dtype: int64"
      ]
     },
     "execution_count": 71,
     "metadata": {},
     "output_type": "execute_result"
    }
   ],
   "source": [
    "data.groupby(data['idioma']).size().sort_values(ascending=False)"
   ]
  },
  {
   "cell_type": "code",
   "execution_count": 72,
   "id": "3015f93b",
   "metadata": {},
   "outputs": [
    {
     "data": {
      "text/plain": [
       "<Axes: title={'center': 'Classificação por Gênero'}, xlabel='genero'>"
      ]
     },
     "execution_count": 72,
     "metadata": {},
     "output_type": "execute_result"
    },
    {
     "data": {
      "image/png": "[encoded data removed]",
      "text/plain": [
       "<Figure size 1000x500 with 1 Axes>"
      ]
     },
     "metadata": {},
     "output_type": "display_data"
    }
   ],
   "source": [
    "pd.crosstab(data['genero'], data['classificacao']).plot(kind='bar', figsize=(10, 5), title='Classificação por Gênero')"
   ]
  },
  {
   "cell_type": "code",
   "execution_count": 73,
   "id": "e9364d1b",
   "metadata": {},
   "outputs": [
    {
     "data": {
      "text/plain": [
       "<Axes: title={'center': 'Distribuição de gêneros por ano de lançamento'}, xlabel='idioma'>"
      ]
     },
     "execution_count": 73,
     "metadata": {},
     "output_type": "execute_result"
    },
    {
     "data": {
      "image/png": "[encoded data removed]",
      "text/plain": [
       "<Figure size 2000x1000 with 1 Axes>"
      ]
     },
     "metadata": {},
     "output_type": "display_data"
    }
   ],
   "source": [
    "pd.crosstab(data['idioma'], data['publico_predominante']).plot(kind='bar', figsize=(20, 10), title='Distribuição de gêneros por ano de lançamento')"
   ]
  },
  {
   "cell_type": "code",
   "execution_count": 74,
   "id": "deab07c3",
   "metadata": {},
   "outputs": [
    {
     "data": {
      "text/html": [
       "<div>\n",
       "<style scoped>\n",
       "    .dataframe tbody tr th:only-of-type {\n",
       "        vertical-align: middle;\n",
       "    }\n",
       "\n",
       "    .dataframe tbody tr th {\n",
       "        vertical-align: top;\n",
       "    }\n",
       "\n",
       "    .dataframe thead th {\n",
       "        text-align: right;\n",
       "    }\n",
       "</style>\n",
       "<table border=\"1\" class=\"dataframe\">\n",
       "  <thead>\n",
       "    <tr style=\"text-align: right;\">\n",
       "      <th></th>\n",
       "      <th>titulo</th>\n",
       "      <th>genero</th>\n",
       "      <th>pais</th>\n",
       "      <th>idioma</th>\n",
       "      <th>duracao</th>\n",
       "      <th>classificacao</th>\n",
       "      <th>data_lancamento</th>\n",
       "      <th>nota_imdb</th>\n",
       "      <th>mulheres_assistiram</th>\n",
       "      <th>homens_assistiram</th>\n",
       "      <th>total_espectadores</th>\n",
       "      <th>publico_predominante</th>\n",
       "      <th>ano_lancamento</th>\n",
       "      <th>mes_lancamento</th>\n",
       "      <th>classificacao_0</th>\n",
       "      <th>classificacao_10</th>\n",
       "      <th>classificacao_12</th>\n",
       "      <th>classificacao_14</th>\n",
       "      <th>classificacao_16</th>\n",
       "      <th>classificacao_18</th>\n",
       "    </tr>\n",
       "  </thead>\n",
       "  <tbody>\n",
       "    <tr>\n",
       "      <th>0</th>\n",
       "      <td>Stranger Things</td>\n",
       "      <td>Drama</td>\n",
       "      <td>UK</td>\n",
       "      <td>Coreano</td>\n",
       "      <td>69.0</td>\n",
       "      <td>16</td>\n",
       "      <td>2013-07-23</td>\n",
       "      <td>7.000000</td>\n",
       "      <td>24372.231183</td>\n",
       "      <td>16067.000000</td>\n",
       "      <td>40439</td>\n",
       "      <td>Mulheres</td>\n",
       "      <td>2013</td>\n",
       "      <td>7</td>\n",
       "      <td>False</td>\n",
       "      <td>False</td>\n",
       "      <td>False</td>\n",
       "      <td>False</td>\n",
       "      <td>True</td>\n",
       "      <td>False</td>\n",
       "    </tr>\n",
       "    <tr>\n",
       "      <th>1</th>\n",
       "      <td>Quantum Love</td>\n",
       "      <td>Crime</td>\n",
       "      <td>FR</td>\n",
       "      <td>Espanhol</td>\n",
       "      <td>54.0</td>\n",
       "      <td>14</td>\n",
       "      <td>2013-02-01</td>\n",
       "      <td>5.100000</td>\n",
       "      <td>20708.000000</td>\n",
       "      <td>26548.000000</td>\n",
       "      <td>47256</td>\n",
       "      <td>Homens</td>\n",
       "      <td>2013</td>\n",
       "      <td>2</td>\n",
       "      <td>False</td>\n",
       "      <td>False</td>\n",
       "      <td>False</td>\n",
       "      <td>True</td>\n",
       "      <td>False</td>\n",
       "      <td>False</td>\n",
       "    </tr>\n",
       "    <tr>\n",
       "      <th>2</th>\n",
       "      <td>Midnight Heist</td>\n",
       "      <td>Thriller</td>\n",
       "      <td>USA</td>\n",
       "      <td>Coreano</td>\n",
       "      <td>55.0</td>\n",
       "      <td>14</td>\n",
       "      <td>2010-05-15</td>\n",
       "      <td>6.600000</td>\n",
       "      <td>49798.000000</td>\n",
       "      <td>23795.329609</td>\n",
       "      <td>73593</td>\n",
       "      <td>Mulheres</td>\n",
       "      <td>2010</td>\n",
       "      <td>5</td>\n",
       "      <td>False</td>\n",
       "      <td>False</td>\n",
       "      <td>False</td>\n",
       "      <td>True</td>\n",
       "      <td>False</td>\n",
       "      <td>False</td>\n",
       "    </tr>\n",
       "    <tr>\n",
       "      <th>3</th>\n",
       "      <td>Red Horizon</td>\n",
       "      <td>Sci-Fi</td>\n",
       "      <td>GER</td>\n",
       "      <td>Hindi</td>\n",
       "      <td>28.0</td>\n",
       "      <td>10</td>\n",
       "      <td>2018-11-28</td>\n",
       "      <td>9.100000</td>\n",
       "      <td>24372.231183</td>\n",
       "      <td>47312.000000</td>\n",
       "      <td>71684</td>\n",
       "      <td>Homens</td>\n",
       "      <td>2018</td>\n",
       "      <td>11</td>\n",
       "      <td>False</td>\n",
       "      <td>True</td>\n",
       "      <td>False</td>\n",
       "      <td>False</td>\n",
       "      <td>False</td>\n",
       "      <td>False</td>\n",
       "    </tr>\n",
       "    <tr>\n",
       "      <th>4</th>\n",
       "      <td>Lost Frequencies</td>\n",
       "      <td>Crime</td>\n",
       "      <td>KOR</td>\n",
       "      <td>Coreano</td>\n",
       "      <td>40.0</td>\n",
       "      <td>16</td>\n",
       "      <td>2022-04-05</td>\n",
       "      <td>4.200000</td>\n",
       "      <td>10191.000000</td>\n",
       "      <td>39497.000000</td>\n",
       "      <td>49688</td>\n",
       "      <td>Homens</td>\n",
       "      <td>2022</td>\n",
       "      <td>4</td>\n",
       "      <td>False</td>\n",
       "      <td>False</td>\n",
       "      <td>False</td>\n",
       "      <td>False</td>\n",
       "      <td>True</td>\n",
       "      <td>False</td>\n",
       "    </tr>\n",
       "    <tr>\n",
       "      <th>...</th>\n",
       "      <td>...</td>\n",
       "      <td>...</td>\n",
       "      <td>...</td>\n",
       "      <td>...</td>\n",
       "      <td>...</td>\n",
       "      <td>...</td>\n",
       "      <td>...</td>\n",
       "      <td>...</td>\n",
       "      <td>...</td>\n",
       "      <td>...</td>\n",
       "      <td>...</td>\n",
       "      <td>...</td>\n",
       "      <td>...</td>\n",
       "      <td>...</td>\n",
       "      <td>...</td>\n",
       "      <td>...</td>\n",
       "      <td>...</td>\n",
       "      <td>...</td>\n",
       "      <td>...</td>\n",
       "      <td>...</td>\n",
       "    </tr>\n",
       "    <tr>\n",
       "      <th>195</th>\n",
       "      <td>Shadow Pulse</td>\n",
       "      <td>Action</td>\n",
       "      <td>IN</td>\n",
       "      <td>Japonês</td>\n",
       "      <td>72.0</td>\n",
       "      <td>18</td>\n",
       "      <td>2015-04-14</td>\n",
       "      <td>6.585567</td>\n",
       "      <td>36385.000000</td>\n",
       "      <td>12335.000000</td>\n",
       "      <td>48720</td>\n",
       "      <td>Mulheres</td>\n",
       "      <td>2015</td>\n",
       "      <td>4</td>\n",
       "      <td>False</td>\n",
       "      <td>False</td>\n",
       "      <td>False</td>\n",
       "      <td>False</td>\n",
       "      <td>False</td>\n",
       "      <td>True</td>\n",
       "    </tr>\n",
       "    <tr>\n",
       "      <th>196</th>\n",
       "      <td>City of Whispers</td>\n",
       "      <td>Crime</td>\n",
       "      <td>USA</td>\n",
       "      <td>Francês</td>\n",
       "      <td>175.0</td>\n",
       "      <td>18</td>\n",
       "      <td>2022-10-28</td>\n",
       "      <td>8.200000</td>\n",
       "      <td>34727.000000</td>\n",
       "      <td>13649.000000</td>\n",
       "      <td>48376</td>\n",
       "      <td>Mulheres</td>\n",
       "      <td>2022</td>\n",
       "      <td>10</td>\n",
       "      <td>False</td>\n",
       "      <td>False</td>\n",
       "      <td>False</td>\n",
       "      <td>False</td>\n",
       "      <td>False</td>\n",
       "      <td>True</td>\n",
       "    </tr>\n",
       "    <tr>\n",
       "      <th>197</th>\n",
       "      <td>La Casa de Papel</td>\n",
       "      <td>Romance</td>\n",
       "      <td>JP</td>\n",
       "      <td>Japonês</td>\n",
       "      <td>85.0</td>\n",
       "      <td>10</td>\n",
       "      <td>2020-04-28</td>\n",
       "      <td>6.300000</td>\n",
       "      <td>39902.000000</td>\n",
       "      <td>15975.000000</td>\n",
       "      <td>55877</td>\n",
       "      <td>Mulheres</td>\n",
       "      <td>2020</td>\n",
       "      <td>4</td>\n",
       "      <td>False</td>\n",
       "      <td>True</td>\n",
       "      <td>False</td>\n",
       "      <td>False</td>\n",
       "      <td>False</td>\n",
       "      <td>False</td>\n",
       "    </tr>\n",
       "    <tr>\n",
       "      <th>198</th>\n",
       "      <td>Beyond the Stars</td>\n",
       "      <td>Action</td>\n",
       "      <td>USA</td>\n",
       "      <td>Espanhol</td>\n",
       "      <td>153.0</td>\n",
       "      <td>0</td>\n",
       "      <td>2013-03-09</td>\n",
       "      <td>4.800000</td>\n",
       "      <td>42724.000000</td>\n",
       "      <td>3267.000000</td>\n",
       "      <td>45991</td>\n",
       "      <td>Mulheres</td>\n",
       "      <td>2013</td>\n",
       "      <td>3</td>\n",
       "      <td>True</td>\n",
       "      <td>False</td>\n",
       "      <td>False</td>\n",
       "      <td>False</td>\n",
       "      <td>False</td>\n",
       "      <td>False</td>\n",
       "    </tr>\n",
       "    <tr>\n",
       "      <th>199</th>\n",
       "      <td>CyberStorm</td>\n",
       "      <td>Drama</td>\n",
       "      <td>USA</td>\n",
       "      <td>Japonês</td>\n",
       "      <td>51.0</td>\n",
       "      <td>10</td>\n",
       "      <td>2015-11-22</td>\n",
       "      <td>8.900000</td>\n",
       "      <td>37919.000000</td>\n",
       "      <td>48634.000000</td>\n",
       "      <td>86553</td>\n",
       "      <td>Homens</td>\n",
       "      <td>2015</td>\n",
       "      <td>11</td>\n",
       "      <td>False</td>\n",
       "      <td>True</td>\n",
       "      <td>False</td>\n",
       "      <td>False</td>\n",
       "      <td>False</td>\n",
       "      <td>False</td>\n",
       "    </tr>\n",
       "  </tbody>\n",
       "</table>\n",
       "<p>186 rows × 20 columns</p>\n",
       "</div>"
      ],
      "text/plain": [
       "               titulo    genero pais    idioma  duracao  classificacao  \\\n",
       "0     Stranger Things     Drama   UK   Coreano     69.0             16   \n",
       "1        Quantum Love     Crime   FR  Espanhol     54.0             14   \n",
       "2      Midnight Heist  Thriller  USA   Coreano     55.0             14   \n",
       "3         Red Horizon    Sci-Fi  GER     Hindi     28.0             10   \n",
       "4    Lost Frequencies     Crime  KOR   Coreano     40.0             16   \n",
       "..                ...       ...  ...       ...      ...            ...   \n",
       "195      Shadow Pulse    Action   IN   Japonês     72.0             18   \n",
       "196  City of Whispers     Crime  USA   Francês    175.0             18   \n",
       "197  La Casa de Papel   Romance   JP   Japonês     85.0             10   \n",
       "198  Beyond the Stars    Action  USA  Espanhol    153.0              0   \n",
       "199        CyberStorm     Drama  USA   Japonês     51.0             10   \n",
       "\n",
       "    data_lancamento  nota_imdb  mulheres_assistiram  homens_assistiram  \\\n",
       "0        2013-07-23   7.000000         24372.231183       16067.000000   \n",
       "1        2013-02-01   5.100000         20708.000000       26548.000000   \n",
       "2        2010-05-15   6.600000         49798.000000       23795.329609   \n",
       "3        2018-11-28   9.100000         24372.231183       47312.000000   \n",
       "4        2022-04-05   4.200000         10191.000000       39497.000000   \n",
       "..              ...        ...                  ...                ...   \n",
       "195      2015-04-14   6.585567         36385.000000       12335.000000   \n",
       "196      2022-10-28   8.200000         34727.000000       13649.000000   \n",
       "197      2020-04-28   6.300000         39902.000000       15975.000000   \n",
       "198      2013-03-09   4.800000         42724.000000        3267.000000   \n",
       "199      2015-11-22   8.900000         37919.000000       48634.000000   \n",
       "\n",
       "     total_espectadores publico_predominante  ano_lancamento  mes_lancamento  \\\n",
       "0                 40439             Mulheres            2013               7   \n",
       "1                 47256               Homens            2013               2   \n",
       "2                 73593             Mulheres            2010               5   \n",
       "3                 71684               Homens            2018              11   \n",
       "4                 49688               Homens            2022               4   \n",
       "..                  ...                  ...             ...             ...   \n",
       "195               48720             Mulheres            2015               4   \n",
       "196               48376             Mulheres            2022              10   \n",
       "197               55877             Mulheres            2020               4   \n",
       "198               45991             Mulheres            2013               3   \n",
       "199               86553               Homens            2015              11   \n",
       "\n",
       "     classificacao_0  classificacao_10  classificacao_12  classificacao_14  \\\n",
       "0              False             False             False             False   \n",
       "1              False             False             False              True   \n",
       "2              False             False             False              True   \n",
       "3              False              True             False             False   \n",
       "4              False             False             False             False   \n",
       "..               ...               ...               ...               ...   \n",
       "195            False             False             False             False   \n",
       "196            False             False             False             False   \n",
       "197            False              True             False             False   \n",
       "198             True             False             False             False   \n",
       "199            False              True             False             False   \n",
       "\n",
       "     classificacao_16  classificacao_18  \n",
       "0                True             False  \n",
       "1               False             False  \n",
       "2               False             False  \n",
       "3               False             False  \n",
       "4                True             False  \n",
       "..                ...               ...  \n",
       "195             False              True  \n",
       "196             False              True  \n",
       "197             False             False  \n",
       "198             False             False  \n",
       "199             False             False  \n",
       "\n",
       "[186 rows x 20 columns]"
      ]
     },
     "execution_count": 74,
     "metadata": {},
     "output_type": "execute_result"
    }
   ],
   "source": [
    "dumies = pd.get_dummies(data['classificacao'], prefix='classificacao')\n",
    "data = pd.concat([data, dumies], axis=1)\n",
    "data"
   ]
  },
  {
   "cell_type": "code",
   "execution_count": 75,
   "id": "6166bbb8",
   "metadata": {},
   "outputs": [
    {
     "data": {
      "text/plain": [
       "classificacao\n",
       "0     2326337\n",
       "10    2059541\n",
       "12    1345583\n",
       "18    1165835\n",
       "14    1046138\n",
       "16     999864\n",
       "Name: total_espectadores, dtype: int64"
      ]
     },
     "execution_count": 75,
     "metadata": {},
     "output_type": "execute_result"
    }
   ],
   "source": [
    "data['total_espectadores'].groupby(data['classificacao']).sum().sort_values(ascending=False)"
   ]
  },
  {
   "cell_type": "code",
   "execution_count": 76,
   "id": "f0c8b073",
   "metadata": {},
   "outputs": [
    {
     "data": {
      "text/plain": [
       "classificacao\n",
       "16    6.89\n",
       "0     6.64\n",
       "10    6.63\n",
       "18    6.62\n",
       "14    6.58\n",
       "12    6.38\n",
       "Name: nota_imdb, dtype: float64"
      ]
     },
     "execution_count": 76,
     "metadata": {},
     "output_type": "execute_result"
    }
   ],
   "source": [
    "data['nota_imdb'].groupby(data['classificacao']).mean().round(2).sort_values(ascending=False)"
   ]
  },
  {
   "cell_type": "code",
   "execution_count": 77,
   "id": "f25c8c19",
   "metadata": {},
   "outputs": [
    {
     "name": "stdout",
     "output_type": "stream",
     "text": [
      "17 6.946209824135839\n"
     ]
    },
    {
     "name": "stderr",
     "output_type": "stream",
     "text": [
      "C:\\Users\\tntga\\AppData\\Local\\Temp\\ipykernel_17624\\2497014352.py:3: UserWarning: This pattern is interpreted as a regular expression, and has match groups. To actually get the groups, use str.extract.\n",
      "  data['contém_palavras'] = data['titulo'].str.contains(r'\\b(Love|Dream|War)\\b', flags=re.IGNORECASE, regex=True)\n"
     ]
    }
   ],
   "source": [
    "import re\n",
    "\n",
    "data['contém_palavras'] = data['titulo'].str.contains(r'\\b(Love|Dream|War)\\b', flags=re.IGNORECASE, regex=True)\n",
    "\n",
    "contagem_titulos = data['contém_palavras'].sum()\n",
    "\n",
    "media_nota_imdb = data.loc[data['contém_palavras'], 'nota_imdb'].mean()\n",
    "\n",
    "print(contagem_titulos, media_nota_imdb)"
   ]
  },
  {
   "cell_type": "code",
   "execution_count": 78,
   "id": "c3969e68",
   "metadata": {},
   "outputs": [
    {
     "data": {
      "text/plain": [
       "<Axes: title={'center': 'Distribuição de títulos por país'}, xlabel='País', ylabel='Quantidade de títulos'>"
      ]
     },
     "execution_count": 78,
     "metadata": {},
     "output_type": "execute_result"
    },
    {
     "data": {
      "image/png": "[encoded data removed]",
      "text/plain": [
       "<Figure size 640x480 with 1 Axes>"
      ]
     },
     "metadata": {},
     "output_type": "display_data"
    }
   ],
   "source": [
    "data.groupby(data['pais']).size().sort_values(ascending=False).head(5).plot(kind='bar',title='Distribuição de títulos por país', xlabel='País', ylabel='Quantidade de títulos')"
   ]
  },
  {
   "cell_type": "code",
   "execution_count": 79,
   "id": "7ddbe3d3",
   "metadata": {},
   "outputs": [
    {
     "data": {
      "text/plain": [
       "<Axes: title={'center': 'Distribuição de gêneros'}>"
      ]
     },
     "execution_count": 79,
     "metadata": {},
     "output_type": "execute_result"
    },
    {
     "data": {
      "image/png": "[encoded data removed]",
      "text/plain": [
       "<Figure size 640x480 with 1 Axes>"
      ]
     },
     "metadata": {},
     "output_type": "display_data"
    }
   ],
   "source": [
    "data.groupby(data['genero']).size().sort_values(ascending=False).plot(kind='pie', title='Distribuição de gêneros', autopct='%1.1f%%')"
   ]
  },
  {
   "cell_type": "code",
   "execution_count": 80,
   "id": "6ddc5734",
   "metadata": {},
   "outputs": [
    {
     "data": {
      "text/plain": [
       "<Axes: title={'center': 'Distribuição de títulos por ano de lançamento'}, xlabel='Ano de Lançamento', ylabel='Quantidade de títulos'>"
      ]
     },
     "execution_count": 80,
     "metadata": {},
     "output_type": "execute_result"
    },
    {
     "data": {
      "image/png": "[encoded data removed]",
      "text/plain": [
       "<Figure size 640x480 with 1 Axes>"
      ]
     },
     "metadata": {},
     "output_type": "display_data"
    }
   ],
   "source": [
    "data.groupby(data['ano_lancamento']).size().plot(kind='line', title='Distribuição de títulos por ano de lançamento', xlabel='Ano de Lançamento', ylabel='Quantidade de títulos')"
   ]
  },
  {
   "cell_type": "code",
   "execution_count": 81,
   "id": "5a34930b",
   "metadata": {},
   "outputs": [
    {
     "data": {
      "text/plain": [
       "<Axes: title={'center': 'Média de espectadores por gênero'}, xlabel='Gênero', ylabel='Média de espectadores'>"
      ]
     },
     "execution_count": 81,
     "metadata": {},
     "output_type": "execute_result"
    },
    {
     "data": {
      "image/png": "[encoded data removed]",
      "text/plain": [
       "<Figure size 640x480 with 1 Axes>"
      ]
     },
     "metadata": {},
     "output_type": "display_data"
    }
   ],
   "source": [
    "data['total_espectadores'].groupby(data['genero']).mean().round(2).plot(kind='bar', title='Média de espectadores por gênero', xlabel='Gênero', ylabel='Média de espectadores')"
   ]
  }
 ],
 "metadata": {
  "kernelspec": {
   "display_name": "Python 3",
   "language": "python",
   "name": "python3"
  },
  "language_info": {
   "codemirror_mode": {
    "name": "ipython",
    "version": 3
   },
   "file_extension": ".py",
   "mimetype": "text/x-python",
   "name": "python",
   "nbconvert_exporter": "python",
   "pygments_lexer": "ipython3",
   "version": "3.12.10"
  }
 },
 "nbformat": 4,
 "nbformat_minor": 5
}
