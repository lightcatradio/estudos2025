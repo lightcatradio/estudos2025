{
 "cells": [
  {
   "cell_type": "code",
   "execution_count": null,
   "metadata": {},
   "outputs": [],
   "source": [
    "import matplotlib.pyplot as plt\n",
    "\n",
    "cursos = ['Engenharia', 'Medicina', 'Direito', 'Administração', 'Ciência da Computação']\n",
    "estudantes = [250, 180, 220, 170, 200]\n",
    "\n",
    "plt.bar(cursos, estudantes)\n",
    "plt.xlabel('Cursos')\n",
    "plt.ylabel('Quantidade de Alunos')\n",
    "plt.title('Quantidade de Alunos por Curso')\n",
    "plt.show()\n"
   ]
  }
 ],
 "metadata": {
  "language_info": {
   "name": "python"
  }
 },
 "nbformat": 4,
 "nbformat_minor": 2
}
